{
 "cells": [
  {
   "cell_type": "markdown",
   "id": "87230b0f",
   "metadata": {},
   "source": [
    "# Предобработка данных"
   ]
  },
  {
   "cell_type": "markdown",
   "id": "3f2b9549",
   "metadata": {},
   "source": [
    "## Импорт библиотек"
   ]
  },
  {
   "cell_type": "code",
   "execution_count": 1,
   "id": "f8df4edb",
   "metadata": {},
   "outputs": [],
   "source": [
    "import pandas as pd\n",
    "import cv2\n",
    "import os\n",
    "import re\n",
    "import numpy as np\n",
    "import datetime as dt\n",
    "\n",
    "from PIL import Image as PILImage\n",
    "\n",
    "from img2table.document import Image\n",
    "\n",
    "from pytesseract import Output\n",
    "import pytesseract\n",
    "pytesseract.pytesseract.tesseract_cmd = r'C:/Program Files/Tesseract-OCR/tesseract.exe'\n",
    "tesseract_cmd = r'C:/Program Files/Tesseract-OCR/tesseract.exe'\n",
    "\n",
    "#import pyocr\n",
    "#pyocr.tesseract.TESSERACT_CMD = r'C:/Program Files/Tesseract-OCR/tesseract.exe'\n",
    "#from IPython.display import display_html\n",
    "#from openpyxl import load_workbook\n",
    "#from io import BytesIO\n",
    "#from img2table.ocr import TesseractOCR\n",
    "#TesseractOCR.tesseract_cmd = r'C:/Program Files/Tesseract-OCR/tesseract.exe'"
   ]
  },
  {
   "cell_type": "markdown",
   "id": "66ce70e0",
   "metadata": {},
   "source": [
    "## Папка с исходниками (для загрузки изображений по одному)"
   ]
  },
  {
   "cell_type": "code",
   "execution_count": 2,
   "id": "a5afe48b",
   "metadata": {},
   "outputs": [
    {
     "name": "stdout",
     "output_type": "stream",
     "text": [
      "ENTER IMAGE NAME\n",
      "1\n"
     ]
    }
   ],
   "source": [
    "SOURCE_DIR = '406/'\n",
    "\n",
    "try:\n",
    "    for filename in os.listdir(SOURCE_DIR):\n",
    "        if 'jpg' in filename.lower() or 'jpeg' in filename.lower() or 'png' in filename.lower():\n",
    "            image_path = SOURCE_DIR + filename\n",
    "        else:\n",
    "            print('NO IMAGE IN DIRECTORY')\n",
    "except:\n",
    "    print('ENTER IMAGE NAME')\n",
    "    p = input()\n",
    "    image_path = f\"app/405/{p}.jpg\""
   ]
  },
  {
   "cell_type": "markdown",
   "id": "80902fd6",
   "metadata": {},
   "source": [
    "## Функции для работы"
   ]
  },
  {
   "cell_type": "markdown",
   "id": "fc161cbe",
   "metadata": {},
   "source": [
    "### Препроцессинг\n",
    "\n",
    "**Обрезка** Для этой задачи - обрезаем пополам. Потому что у справки формы 405 таблица всегда в нижней половине.\n",
    "\n",
    "**Оттенки серого**\n",
    "\n",
    "**Удаление шумов**\n",
    "\n",
    "**Приведение к пороговому значению** Gaussian"
   ]
  },
  {
   "cell_type": "code",
   "execution_count": 3,
   "id": "51abfd78",
   "metadata": {},
   "outputs": [],
   "source": [
    "def pre(img):\n",
    "    height = int(img.shape[0])\n",
    "    half = int(img.shape[0] / 2)\n",
    "    cut = img[half:height, :]\n",
    "    gray = cv2.cvtColor(cut, cv2.COLOR_BGR2GRAY)\n",
    "    noise = cv2.medianBlur(gray,1)\n",
    "    thresh = cv2.adaptiveThreshold(noise,255,cv2.ADAPTIVE_THRESH_GAUSSIAN_C, cv2.THRESH_BINARY,11,11)\n",
    "    out = thresh\n",
    "    return out\n",
    "\n",
    "#ret,thresh3 = cv.threshold(img,127,255,cv.THRESH_TRUNC)\n",
    "#ret,thresh4 = cv.threshold(img,127,255,cv.THRESH_TOZERO)"
   ]
  },
  {
   "cell_type": "markdown",
   "id": "725dd66b",
   "metadata": {},
   "source": [
    "### Поиск координат ячеек таблиц с помощью img2table"
   ]
  },
  {
   "cell_type": "code",
   "execution_count": 4,
   "id": "bdfc12a9",
   "metadata": {},
   "outputs": [],
   "source": [
    "def search(path):\n",
    "    img = Image(src=path)\n",
    "    extracted_tables = img.extract_tables()\n",
    "    table_img = (cv2.imread(path))\n",
    "    find_cell = []\n",
    "    for table in extracted_tables:\n",
    "        for row in table.content.values():\n",
    "            for cell in row:\n",
    "                cv2.rectangle(table_img, (cell.bbox.x1, cell.bbox.y1), (cell.bbox.x2, cell.bbox.y2), (255, 0, 0), 2)\n",
    "                rect = [cell.bbox.y1, cell.bbox.y2, cell.bbox.x1, cell.bbox.x2]\n",
    "                find_cell.append(rect)\n",
    "    if len(find_cell) < 5:\n",
    "        return 'PREPROCESSING ERROR TRY ANOTHER IMAGE'\n",
    "    else:\n",
    "        return find_cell\n",
    "    #PILImage.fromarray(table_img)"
   ]
  },
  {
   "cell_type": "markdown",
   "id": "316b6094",
   "metadata": {},
   "source": [
    "### Распознавание числовых значений и дат"
   ]
  },
  {
   "cell_type": "code",
   "execution_count": 5,
   "id": "02149fc0",
   "metadata": {},
   "outputs": [],
   "source": [
    "def numbers(cells, path):\n",
    "    cfg = r'--oem 3 --psm 7 outputbase digits'\n",
    "    nums = []\n",
    "    img = (cv2.imread(path))\n",
    "    for place in cells:\n",
    "        img_part = img[place[0]:place[1],place[2]:place[3]]\n",
    "        nums.append(pytesseract.image_to_string(img_part, lang='rus', config=cfg))\n",
    "    return nums"
   ]
  },
  {
   "cell_type": "markdown",
   "id": "b161d91c",
   "metadata": {},
   "source": [
    "### Распознавание всего остального"
   ]
  },
  {
   "cell_type": "code",
   "execution_count": 6,
   "id": "0c4f8157",
   "metadata": {},
   "outputs": [],
   "source": [
    "def words(cells, path):\n",
    "    cfg = r'--oem 3 --psm 7'\n",
    "    wds = []\n",
    "    img = (cv2.imread(path))\n",
    "    for place in cells:\n",
    "        img_part = img[place[0]:place[1],place[2]:place[3]]\n",
    "        wds.append(pytesseract.image_to_string(img_part, lang='rus', config=cfg))\n",
    "    return wds"
   ]
  },
  {
   "cell_type": "markdown",
   "id": "c6101b3c",
   "metadata": {},
   "source": [
    "### Объединение распознанных данных"
   ]
  },
  {
   "cell_type": "code",
   "execution_count": 7,
   "id": "ee967f64",
   "metadata": {},
   "outputs": [],
   "source": [
    "def join_data(n, w):\n",
    "    for i in range(len(n)):\n",
    "        if n[i] == '':\n",
    "            n[i] = w[i]\n",
    "    return n"
   ]
  },
  {
   "cell_type": "markdown",
   "id": "cfa8600f",
   "metadata": {},
   "source": [
    "### Очистка выходных значений: оставляем только данные в формате \"дата - тип донации - объем\", удаляем пробельные символы и точки из конца строки"
   ]
  },
  {
   "cell_type": "code",
   "execution_count": 8,
   "id": "a245cf19",
   "metadata": {},
   "outputs": [],
   "source": [
    "def clean(list):\n",
    "    stop_head = 0\n",
    "    for i in range(len(list)):\n",
    "        if re.search(r'\\d{2}.\\d{2}.\\d{4}', list[i]):\n",
    "            stop_head = i\n",
    "            break\n",
    "    cut_head = list[stop_head:]\n",
    "    for j in range(len(cut_head)-1, 0, -1):\n",
    "        if re.search(r'\\d{2,}', cut_head[j]):\n",
    "            stop_tail = j\n",
    "            break\n",
    "    cut_tail = cut_head[:j+1]\n",
    "    clean_list = cut_tail\n",
    "    clean_counter = 0\n",
    "    for k in range(len(clean_list)):\n",
    "        if (not (re.search(r'\\d{2}.\\d{2}.\\d{4}', clean_list[k]) or \\\n",
    "        re.search(r'\\d{2,}', clean_list[k]) or \\\n",
    "        re.fullmatch(r'\\w{,2}\\s', clean_list[k]))):\n",
    "            clean_list[k] = 'unknown'\n",
    "            clean_counter += 1\n",
    "        clean_list[k] = re.sub(r'\\s', '', clean_list[k])\n",
    "        clean_list[k] = re.sub(r'[-, =]', '', clean_list[k])\n",
    "        if clean_list[k][-1] == '.':\n",
    "            clean_list[k] = clean_list[k][:-1]\n",
    "        if clean_list[k][0] == '.':\n",
    "            clean_list[k] = clean_list[k][1:]\n",
    "    return clean_list"
   ]
  },
  {
   "cell_type": "markdown",
   "id": "a972e2a5",
   "metadata": {},
   "source": [
    "### Формирование таблицы из распознанных значений и сортировка их по дате"
   ]
  },
  {
   "cell_type": "code",
   "execution_count": 9,
   "id": "4b9f2d6b",
   "metadata": {},
   "outputs": [],
   "source": [
    "def table(list):\n",
    "    date = []\n",
    "    volume = []\n",
    "    don = []\n",
    "    category = []\n",
    "    error = []\n",
    "    rec_counter = 0\n",
    "    for i in range(len(list)):\n",
    "        if re.fullmatch(r'\\d{2}.\\d{2}.\\d{4}', list[i]):\n",
    "            try:\n",
    "                d = dt.datetime.strptime(list[i], '%d.%m.%Y')\n",
    "                d = dt.datetime.date(d)\n",
    "                rec_counter += 1\n",
    "            except:\n",
    "                d = None\n",
    "            date.append(d)\n",
    "        elif re.fullmatch(r'\\d{3,4}', list[i]) and (50 <= int(list[i]) <= 750):\n",
    "            volume.append(int(list[i]))\n",
    "        elif re.search(r'[8, б, в, 6]', list[i]) and len(list[i]) < 3:\n",
    "            don.append('Безвозмездно')\n",
    "        elif re.search(r'[к, К, р, Р]', list[i]):\n",
    "            category.append('Цельная кровь')\n",
    "        elif re.search(r'[п, П, л, Л]', list[i]):\n",
    "            category.append('Плазма')\n",
    "        elif re.search(r'[т, Т, ф, Ф]', list[i]):\n",
    "            category.append('Тромбоциты')\n",
    "        else:\n",
    "            error.append(list[i])\n",
    "            volume.append(0)\n",
    "            category.append('unknown')\n",
    "            don.append('unknown')\n",
    "    if rec_counter == 0:\n",
    "        return 'RECOGNITION ERROR TRY ANOTHER IMAGE'\n",
    "    else:\n",
    "        result = pd.concat([pd.Series(date), pd.Series(volume), pd.Series(don), pd.Series(category)], axis=1)\n",
    "        result = result.rename(columns={0: \"Дата донации\", 1: \"Объем, мл\", 2: \"Тип донации\", 3: \"Класс крови\"})\n",
    "        result = result.dropna(subset=[\"Дата донации\"]).reset_index(drop=True)\n",
    "        result = result.fillna(0)\n",
    "        result = result.drop_duplicates(subset=[\"Дата донации\"]).reset_index(drop=True)\n",
    "        result = result.sort_values(by='Дата донации')  \n",
    "        return result"
   ]
  },
  {
   "cell_type": "markdown",
   "id": "6adcac0b",
   "metadata": {},
   "source": [
    "# Распознавание изображений"
   ]
  },
  {
   "cell_type": "markdown",
   "id": "ba343185",
   "metadata": {},
   "source": [
    "## Загрузка и предобработка изображений"
   ]
  },
  {
   "cell_type": "markdown",
   "id": "07fb26e8",
   "metadata": {},
   "source": [
    "## Распознавание"
   ]
  },
  {
   "cell_type": "code",
   "execution_count": 10,
   "id": "cddfbb99",
   "metadata": {
    "scrolled": true
   },
   "outputs": [
    {
     "name": "stdout",
     "output_type": "stream",
     "text": [
      "app/405/1.jpg --- IMAGE RECOGNIZED\n"
     ]
    }
   ],
   "source": [
    "os.makedirs('recognized/', exist_ok=True)\n",
    "\n",
    "input_image = cv2.imread(image_path)\n",
    "preprocessed_image = pre(input_image)\n",
    "pre_path = 'recognized/' + 'pre_image.png'\n",
    "cv2.imwrite(pre_path, preprocessed_image)\n",
    "\n",
    "cell = search(pre_path)\n",
    "if type(cell) == str:\n",
    "    print(pth, '---',cell)\n",
    "    exit()\n",
    "n = numbers(cell, pre_path)\n",
    "w = words(cell, pre_path)\n",
    "raw_out = (join_data(n, w))\n",
    "cleaned_out = clean(raw_out)\n",
    "out_data = table(cleaned_out)\n",
    "if type(out_data) == str:\n",
    "    print(pth, '---', out_data)\n",
    "    exit()\n",
    "name = p + '.csv'\n",
    "out_data.to_csv('recognized/' + name)\n",
    "print(image_path, '---', 'IMAGE RECOGNIZED')"
   ]
  }
 ],
 "metadata": {
  "kernelspec": {
   "display_name": "Python 3 (ipykernel)",
   "language": "python",
   "name": "python3"
  },
  "language_info": {
   "codemirror_mode": {
    "name": "ipython",
    "version": 3
   },
   "file_extension": ".py",
   "mimetype": "text/x-python",
   "name": "python",
   "nbconvert_exporter": "python",
   "pygments_lexer": "ipython3",
   "version": "3.10.9"
  },
  "toc": {
   "base_numbering": 1,
   "nav_menu": {},
   "number_sections": true,
   "sideBar": true,
   "skip_h1_title": false,
   "title_cell": "Table of Contents",
   "title_sidebar": "Contents",
   "toc_cell": false,
   "toc_position": {},
   "toc_section_display": true,
   "toc_window_display": false
  },
  "varInspector": {
   "cols": {
    "lenName": 16,
    "lenType": 16,
    "lenVar": 40
   },
   "kernels_config": {
    "python": {
     "delete_cmd_postfix": "",
     "delete_cmd_prefix": "del ",
     "library": "var_list.py",
     "varRefreshCmd": "print(var_dic_list())"
    },
    "r": {
     "delete_cmd_postfix": ") ",
     "delete_cmd_prefix": "rm(",
     "library": "var_list.r",
     "varRefreshCmd": "cat(var_dic_list()) "
    }
   },
   "types_to_exclude": [
    "module",
    "function",
    "builtin_function_or_method",
    "instance",
    "_Feature"
   ],
   "window_display": false
  }
 },
 "nbformat": 4,
 "nbformat_minor": 5
}
