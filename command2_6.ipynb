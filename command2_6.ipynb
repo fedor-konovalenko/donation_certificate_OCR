{
 "cells": [
  {
   "cell_type": "code",
   "execution_count": 1,
   "id": "f8df4edb",
   "metadata": {},
   "outputs": [],
   "source": [
    "import pandas as pd"
   ]
  },
  {
   "cell_type": "code",
   "execution_count": 5,
   "id": "98d89c66",
   "metadata": {},
   "outputs": [],
   "source": [
    "df = pd.read_csv('204119.csv')"
   ]
  },
  {
   "cell_type": "code",
   "execution_count": 6,
   "id": "c75bd887",
   "metadata": {},
   "outputs": [
    {
     "data": {
      "text/html": [
       "<div>\n",
       "<style scoped>\n",
       "    .dataframe tbody tr th:only-of-type {\n",
       "        vertical-align: middle;\n",
       "    }\n",
       "\n",
       "    .dataframe tbody tr th {\n",
       "        vertical-align: top;\n",
       "    }\n",
       "\n",
       "    .dataframe thead th {\n",
       "        text-align: right;\n",
       "    }\n",
       "</style>\n",
       "<table border=\"1\" class=\"dataframe\">\n",
       "  <thead>\n",
       "    <tr style=\"text-align: right;\">\n",
       "      <th></th>\n",
       "      <th>ID</th>\n",
       "      <th>ID пользователя</th>\n",
       "      <th>Класс крови</th>\n",
       "      <th>Дата донации</th>\n",
       "      <th>Дата добавления донации</th>\n",
       "      <th>Тип донации</th>\n",
       "      <th>Регион</th>\n",
       "      <th>Место стадчи</th>\n",
       "      <th>Статус донации</th>\n",
       "      <th>Есть справка</th>\n",
       "    </tr>\n",
       "  </thead>\n",
       "  <tbody>\n",
       "    <tr>\n",
       "      <th>0</th>\n",
       "      <td>170415</td>\n",
       "      <td>204119</td>\n",
       "      <td>Цельная кровь</td>\n",
       "      <td>01.04.2015</td>\n",
       "      <td>23.12.2022</td>\n",
       "      <td>Безвозмездно</td>\n",
       "      <td>Россия, Тульская область, Тула</td>\n",
       "      <td>556</td>\n",
       "      <td>Принята</td>\n",
       "      <td>Да</td>\n",
       "    </tr>\n",
       "    <tr>\n",
       "      <th>1</th>\n",
       "      <td>170430</td>\n",
       "      <td>204119</td>\n",
       "      <td>Цельная кровь</td>\n",
       "      <td>27.07.2017</td>\n",
       "      <td>23.12.2022</td>\n",
       "      <td>Безвозмездно</td>\n",
       "      <td>Россия, Тульская область, Кимовск</td>\n",
       "      <td>Выездная акция</td>\n",
       "      <td>Принята</td>\n",
       "      <td>Да</td>\n",
       "    </tr>\n",
       "    <tr>\n",
       "      <th>2</th>\n",
       "      <td>170431</td>\n",
       "      <td>204119</td>\n",
       "      <td>Цельная кровь</td>\n",
       "      <td>11.10.2017</td>\n",
       "      <td>23.12.2022</td>\n",
       "      <td>Безвозмездно</td>\n",
       "      <td>Россия, Тульская область, Кимовск</td>\n",
       "      <td>Выездная акция</td>\n",
       "      <td>Принята</td>\n",
       "      <td>Да</td>\n",
       "    </tr>\n",
       "    <tr>\n",
       "      <th>3</th>\n",
       "      <td>170432</td>\n",
       "      <td>204119</td>\n",
       "      <td>Цельная кровь</td>\n",
       "      <td>30.07.2018</td>\n",
       "      <td>23.12.2022</td>\n",
       "      <td>Безвозмездно</td>\n",
       "      <td>Россия, Тульская область, Кимовск</td>\n",
       "      <td>Выездная акция</td>\n",
       "      <td>Принята</td>\n",
       "      <td>Да</td>\n",
       "    </tr>\n",
       "    <tr>\n",
       "      <th>4</th>\n",
       "      <td>170433</td>\n",
       "      <td>204119</td>\n",
       "      <td>Цельная кровь</td>\n",
       "      <td>16.10.2018</td>\n",
       "      <td>23.12.2022</td>\n",
       "      <td>Безвозмездно</td>\n",
       "      <td>Россия, Тульская область, Кимовск</td>\n",
       "      <td>Выездная акция</td>\n",
       "      <td>Принята</td>\n",
       "      <td>Да</td>\n",
       "    </tr>\n",
       "  </tbody>\n",
       "</table>\n",
       "</div>"
      ],
      "text/plain": [
       "       ID  ID пользователя    Класс крови Дата донации  \\\n",
       "0  170415           204119  Цельная кровь   01.04.2015   \n",
       "1  170430           204119  Цельная кровь   27.07.2017   \n",
       "2  170431           204119  Цельная кровь   11.10.2017   \n",
       "3  170432           204119  Цельная кровь   30.07.2018   \n",
       "4  170433           204119  Цельная кровь   16.10.2018   \n",
       "\n",
       "  Дата добавления донации   Тип донации                             Регион  \\\n",
       "0              23.12.2022  Безвозмездно     Россия, Тульская область, Тула   \n",
       "1              23.12.2022  Безвозмездно  Россия, Тульская область, Кимовск   \n",
       "2              23.12.2022  Безвозмездно  Россия, Тульская область, Кимовск   \n",
       "3              23.12.2022  Безвозмездно  Россия, Тульская область, Кимовск   \n",
       "4              23.12.2022  Безвозмездно  Россия, Тульская область, Кимовск   \n",
       "\n",
       "     Место стадчи Статус донации Есть справка  \n",
       "0             556        Принята           Да  \n",
       "1  Выездная акция        Принята           Да  \n",
       "2  Выездная акция        Принята           Да  \n",
       "3  Выездная акция        Принята           Да  \n",
       "4  Выездная акция        Принята           Да  "
      ]
     },
     "execution_count": 6,
     "metadata": {},
     "output_type": "execute_result"
    }
   ],
   "source": [
    "df.head()"
   ]
  },
  {
   "cell_type": "code",
   "execution_count": null,
   "id": "cd1e2c57",
   "metadata": {},
   "outputs": [],
   "source": []
  }
 ],
 "metadata": {
  "kernelspec": {
   "display_name": "Python 3 (ipykernel)",
   "language": "python",
   "name": "python3"
  },
  "language_info": {
   "codemirror_mode": {
    "name": "ipython",
    "version": 3
   },
   "file_extension": ".py",
   "mimetype": "text/x-python",
   "name": "python",
   "nbconvert_exporter": "python",
   "pygments_lexer": "ipython3",
   "version": "3.10.9"
  },
  "toc": {
   "base_numbering": 1,
   "nav_menu": {},
   "number_sections": true,
   "sideBar": true,
   "skip_h1_title": false,
   "title_cell": "Table of Contents",
   "title_sidebar": "Contents",
   "toc_cell": false,
   "toc_position": {},
   "toc_section_display": true,
   "toc_window_display": false
  },
  "varInspector": {
   "cols": {
    "lenName": 16,
    "lenType": 16,
    "lenVar": 40
   },
   "kernels_config": {
    "python": {
     "delete_cmd_postfix": "",
     "delete_cmd_prefix": "del ",
     "library": "var_list.py",
     "varRefreshCmd": "print(var_dic_list())"
    },
    "r": {
     "delete_cmd_postfix": ") ",
     "delete_cmd_prefix": "rm(",
     "library": "var_list.r",
     "varRefreshCmd": "cat(var_dic_list()) "
    }
   },
   "types_to_exclude": [
    "module",
    "function",
    "builtin_function_or_method",
    "instance",
    "_Feature"
   ],
   "window_display": false
  }
 },
 "nbformat": 4,
 "nbformat_minor": 5
}
