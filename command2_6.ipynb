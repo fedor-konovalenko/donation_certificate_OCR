{
 "cells": [
  {
   "cell_type": "markdown",
   "id": "87230b0f",
   "metadata": {},
   "source": [
    "# Предобработка данных"
   ]
  },
  {
   "cell_type": "markdown",
   "id": "3f2b9549",
   "metadata": {},
   "source": [
    "## Импорт библиотек"
   ]
  },
  {
   "cell_type": "code",
   "execution_count": 1,
   "id": "f8df4edb",
   "metadata": {},
   "outputs": [],
   "source": [
    "import pandas as pd\n",
    "import cv2\n",
    "import os\n",
    "import re\n",
    "import numpy as np\n",
    "import datetime as dt\n",
    "\n",
    "from PIL import Image as PILImage\n",
    "\n",
    "from img2table.document import Image\n",
    "\n",
    "from pytesseract import Output\n",
    "import pytesseract\n",
    "pytesseract.pytesseract.tesseract_cmd = r'C:/Program Files/Tesseract-OCR/tesseract.exe'\n",
    "tesseract_cmd = r'C:/Program Files/Tesseract-OCR/tesseract.exe'\n",
    "\n",
    "#import pyocr\n",
    "#pyocr.tesseract.TESSERACT_CMD = r'C:/Program Files/Tesseract-OCR/tesseract.exe'\n",
    "#from IPython.display import display_html\n",
    "#from openpyxl import load_workbook\n",
    "#from io import BytesIO\n",
    "#from img2table.ocr import TesseractOCR\n",
    "#TesseractOCR.tesseract_cmd = r'C:/Program Files/Tesseract-OCR/tesseract.exe'"
   ]
  },
  {
   "cell_type": "markdown",
   "id": "66ce70e0",
   "metadata": {},
   "source": [
    "## Папка с исходниками"
   ]
  },
  {
   "cell_type": "code",
   "execution_count": 2,
   "id": "a5afe48b",
   "metadata": {},
   "outputs": [],
   "source": [
    "IMAGE_NAMES = []\n",
    "CSV_NAMES = []\n",
    "SOURCE_DIR = '405/'\n",
    "\n",
    "try:\n",
    "    for filename in os.listdir(SOURCE_DIR):\n",
    "        if 'jpg' in filename.lower() or 'jpeg' in filename.lower() or 'png' in filename.lower():\n",
    "            IMAGE_NAMES.append(SOURCE_DIR + filename)\n",
    "        if 'csv' in filename:\n",
    "            CSV_NAMES.append(SOURCE_DIR + filename)\n",
    "except:\n",
    "    p = input()\n",
    "    IMAGE_NAMES = [f\"app/405/{p}.jpg\"]"
   ]
  },
  {
   "cell_type": "markdown",
   "id": "59268787",
   "metadata": {},
   "source": [
    "## Загрузка и осмотр данных"
   ]
  },
  {
   "cell_type": "code",
   "execution_count": 3,
   "id": "c75bd887",
   "metadata": {},
   "outputs": [
    {
     "name": "stdout",
     "output_type": "stream",
     "text": [
      "\n",
      " Число файлов где количество столбцов отличается от 10--- 0\n",
      "\n",
      " Число файлов с пропусками--- 0\n"
     ]
    }
   ],
   "source": [
    "shape_counter = 0\n",
    "nan_counter = 0\n",
    "columns = 10\n",
    "df_list = []\n",
    "filename_list = []\n",
    "\n",
    "for filename in CSV_NAMES:\n",
    "    path = filename\n",
    "    df = pd.read_csv(path)\n",
    "    #print('\\n', filename)\n",
    "    #print(df.head())\n",
    "    df_list.append(df)\n",
    "    filename_list.append(filename.split('/')[1])\n",
    "    if df.shape[1] != columns:\n",
    "        shape_counter += 1\n",
    "    if df.isna().sum().sum() != 0:\n",
    "        nan_counter += 1\n",
    "print('\\n', 'Число файлов где количество столбцов отличается от 10---', shape_counter)\n",
    "print('\\n', 'Число файлов с пропусками---', nan_counter)"
   ]
  },
  {
   "cell_type": "markdown",
   "id": "fe6800fe",
   "metadata": {},
   "source": [
    "## Добавляем город, преобразуем дату и убираем лишние столбцы"
   ]
  },
  {
   "cell_type": "code",
   "execution_count": 4,
   "id": "ccea9224",
   "metadata": {},
   "outputs": [],
   "source": [
    "def region_to_city(st):\n",
    "    return st.split(', ')[-1]\n",
    "\n",
    "def string_to_date(st):\n",
    "    try:\n",
    "        d = dt.datetime.strptime(st, '%d.%m.%Y')\n",
    "    except:\n",
    "        d = 0\n",
    "    return d"
   ]
  },
  {
   "cell_type": "code",
   "execution_count": 5,
   "id": "7d2f3cde",
   "metadata": {},
   "outputs": [],
   "source": [
    "trash_columns = ['ID', 'ID пользователя', 'Дата добавления донации', 'Место стадчи', 'Статус донации', 'Есть справка', 'Регион']\n",
    "\n",
    "for i in range(len(df_list)):\n",
    "    df_list[i]['Город'] = df_list[i]['Регион'].apply(region_to_city)\n",
    "    df_list[i]['Дата донации'] = df_list[i]['Дата донации'].apply(string_to_date)\n",
    "    df_list[i] = df_list[i].drop(trash_columns, axis=1)"
   ]
  },
  {
   "cell_type": "markdown",
   "id": "ddd92a61",
   "metadata": {},
   "source": [
    "## Запись обработанных csv-таргетов"
   ]
  },
  {
   "cell_type": "code",
   "execution_count": 6,
   "id": "eb589eb1",
   "metadata": {},
   "outputs": [],
   "source": [
    "os.makedirs('result/targets', exist_ok=True)  \n",
    "for i in range(len(df_list)):\n",
    "    df_list[i].to_csv('result/targets/' + str(filename_list[i]))  "
   ]
  },
  {
   "cell_type": "markdown",
   "id": "80902fd6",
   "metadata": {},
   "source": [
    "## Функции для работы"
   ]
  },
  {
   "cell_type": "markdown",
   "id": "fc161cbe",
   "metadata": {},
   "source": [
    "### Препроцессинг\n",
    "\n",
    "**Обрезка** Для этой задачи - обрезаем пополам. Потому что у справки формы 405 таблица всегда в нижней половине.\n",
    "\n",
    "**Оттенки серого**\n",
    "\n",
    "**Удаление шумов**\n",
    "\n",
    "**Приведение к пороговому значению** Gaussian"
   ]
  },
  {
   "cell_type": "code",
   "execution_count": 7,
   "id": "51abfd78",
   "metadata": {},
   "outputs": [],
   "source": [
    "def pre(img):\n",
    "    height = int(img.shape[0])\n",
    "    half = int(img.shape[0] / 2)\n",
    "    cut = img[half:height, :]\n",
    "    gray = cv2.cvtColor(cut, cv2.COLOR_BGR2GRAY)\n",
    "    noise = cv2.medianBlur(gray,1)\n",
    "    thresh = cv2.adaptiveThreshold(noise,255,cv2.ADAPTIVE_THRESH_GAUSSIAN_C, cv2.THRESH_BINARY,11,11)\n",
    "    out = thresh\n",
    "    return out\n",
    "\n",
    "#ret,thresh3 = cv.threshold(img,127,255,cv.THRESH_TRUNC)\n",
    "#ret,thresh4 = cv.threshold(img,127,255,cv.THRESH_TOZERO)"
   ]
  },
  {
   "cell_type": "markdown",
   "id": "725dd66b",
   "metadata": {},
   "source": [
    "### Поиск координат ячеек таблиц с помощью img2table"
   ]
  },
  {
   "cell_type": "code",
   "execution_count": 8,
   "id": "bdfc12a9",
   "metadata": {},
   "outputs": [],
   "source": [
    "def search(path):\n",
    "    img = Image(src=path)\n",
    "    extracted_tables = img.extract_tables()\n",
    "    table_img = (cv2.imread(path))\n",
    "    find_cell = []\n",
    "    for table in extracted_tables:\n",
    "        for row in table.content.values():\n",
    "            for cell in row:\n",
    "                cv2.rectangle(table_img, (cell.bbox.x1, cell.bbox.y1), (cell.bbox.x2, cell.bbox.y2), (255, 0, 0), 2)\n",
    "                rect = [cell.bbox.y1, cell.bbox.y2, cell.bbox.x1, cell.bbox.x2]\n",
    "                find_cell.append(rect)\n",
    "    if len(find_cell) < 5:\n",
    "        return 'PREPROCESSING ERROR TRY ANOTHER IMAGE'\n",
    "    else:\n",
    "        return find_cell\n",
    "    #PILImage.fromarray(table_img)"
   ]
  },
  {
   "cell_type": "markdown",
   "id": "316b6094",
   "metadata": {},
   "source": [
    "### Распознавание числовых значений и дат"
   ]
  },
  {
   "cell_type": "code",
   "execution_count": 9,
   "id": "02149fc0",
   "metadata": {},
   "outputs": [],
   "source": [
    "def numbers(cells, path):\n",
    "    cfg = r'--oem 3 --psm 7 outputbase digits'\n",
    "    nums = []\n",
    "    img = (cv2.imread(path))\n",
    "    for place in cells:\n",
    "        img_part = img[place[0]:place[1],place[2]:place[3]]\n",
    "        nums.append(pytesseract.image_to_string(img_part, lang='rus', config=cfg))\n",
    "    return nums"
   ]
  },
  {
   "cell_type": "markdown",
   "id": "b161d91c",
   "metadata": {},
   "source": [
    "### Распознавание всего остального"
   ]
  },
  {
   "cell_type": "code",
   "execution_count": 10,
   "id": "0c4f8157",
   "metadata": {},
   "outputs": [],
   "source": [
    "def words(cells, path):\n",
    "    cfg = r'--oem 3 --psm 7'\n",
    "    wds = []\n",
    "    img = (cv2.imread(path))\n",
    "    for place in cells:\n",
    "        img_part = img[place[0]:place[1],place[2]:place[3]]\n",
    "        wds.append(pytesseract.image_to_string(img_part, lang='rus', config=cfg))\n",
    "    return wds"
   ]
  },
  {
   "cell_type": "markdown",
   "id": "c6101b3c",
   "metadata": {},
   "source": [
    "### Объединение распознанных данных"
   ]
  },
  {
   "cell_type": "code",
   "execution_count": 11,
   "id": "ee967f64",
   "metadata": {},
   "outputs": [],
   "source": [
    "def join_data(n, w):\n",
    "    for i in range(len(n)):\n",
    "        if n[i] == '':\n",
    "            n[i] = w[i]\n",
    "    return n"
   ]
  },
  {
   "cell_type": "markdown",
   "id": "cfa8600f",
   "metadata": {},
   "source": [
    "### Очистка выходных значений: оставляем только данные в формате \"дата - тип донации - объем\", удаляем пробельные символы и точки из конца строки"
   ]
  },
  {
   "cell_type": "code",
   "execution_count": 12,
   "id": "a245cf19",
   "metadata": {},
   "outputs": [],
   "source": [
    "def clean(list):\n",
    "    stop_head = 0\n",
    "    for i in range(len(list)):\n",
    "        if re.search(r'\\d{2}.\\d{2}.\\d{4}', list[i]):\n",
    "            stop_head = i\n",
    "            break\n",
    "    cut_head = list[stop_head:]\n",
    "    for j in range(len(cut_head)-1, 0, -1):\n",
    "        if re.search(r'\\d{2,}', cut_head[j]):\n",
    "            stop_tail = j\n",
    "            break\n",
    "    cut_tail = cut_head[:j+1]\n",
    "    clean_list = cut_tail\n",
    "    clean_counter = 0\n",
    "    for k in range(len(clean_list)):\n",
    "        if (not (re.search(r'\\d{2}.\\d{2}.\\d{4}', clean_list[k]) or \\\n",
    "        re.search(r'\\d{2,}', clean_list[k]) or \\\n",
    "        re.fullmatch(r'\\w{,2}\\s', clean_list[k]))):\n",
    "            clean_list[k] = 'unknown'\n",
    "            clean_counter += 1\n",
    "        clean_list[k] = re.sub(r'\\s', '', clean_list[k])\n",
    "        clean_list[k] = re.sub(r'[-, =]', '', clean_list[k])\n",
    "        if clean_list[k][-1] == '.':\n",
    "            clean_list[k] = clean_list[k][:-1]\n",
    "        if clean_list[k][0] == '.':\n",
    "            clean_list[k] = clean_list[k][1:]\n",
    "    return clean_list"
   ]
  },
  {
   "cell_type": "markdown",
   "id": "a972e2a5",
   "metadata": {},
   "source": [
    "### Формирование таблицы из распознанных значений и сортировка их по дате"
   ]
  },
  {
   "cell_type": "code",
   "execution_count": 13,
   "id": "4b9f2d6b",
   "metadata": {},
   "outputs": [],
   "source": [
    "def table(list):\n",
    "    date = []\n",
    "    volume = []\n",
    "    don = []\n",
    "    error = []\n",
    "    rec_counter = 0\n",
    "    for i in range(len(list)):\n",
    "        if re.fullmatch(r'\\d{2}.\\d{2}.\\d{4}', list[i]):\n",
    "            try:\n",
    "                d = dt.datetime.strptime(list[i], '%d.%m.%Y')\n",
    "                d = dt.datetime.date(d)\n",
    "                rec_counter += 1\n",
    "            except:\n",
    "                d = None\n",
    "            date.append(d)\n",
    "        elif re.fullmatch(r'\\d{3,4}', list[i]) and (50 <= int(list[i]) <= 750):\n",
    "            volume.append(int(list[i]))\n",
    "        elif re.search(r'[8, б, в, 6]', list[i]) and len(list[i]) < 3:\n",
    "            don.append('Безвозмездно')\n",
    "        else:\n",
    "            error.append(list[i]) \n",
    "    if rec_counter == 0:\n",
    "        return 'RECOGNITION ERROR TRY ANOTHER IMAGE'\n",
    "    else:\n",
    "        result = pd.concat([pd.Series(date), pd.Series(volume), pd.Series(don)], axis=1)\n",
    "        result = result.rename(columns={0: \"Дата донации\", 1: \"Объем, мл\", 2: \"Тип донации\"})\n",
    "        result = result.dropna(subset=[\"Дата донации\"]).reset_index(drop=True)\n",
    "        result = result.fillna(0)\n",
    "        result = result.drop_duplicates(subset=[\"Дата донации\"]).reset_index(drop=True)\n",
    "        result = result.sort_values(by='Дата донации')  \n",
    "        return result"
   ]
  },
  {
   "cell_type": "markdown",
   "id": "6adcac0b",
   "metadata": {},
   "source": [
    "# Распознавание изображений"
   ]
  },
  {
   "cell_type": "markdown",
   "id": "ba343185",
   "metadata": {},
   "source": [
    "## Загрузка и предобработка изображений"
   ]
  },
  {
   "cell_type": "code",
   "execution_count": 14,
   "id": "c1c8c712",
   "metadata": {},
   "outputs": [],
   "source": [
    "os.makedirs('result/preprocessed/', exist_ok=True)\n",
    "img_path_list = []\n",
    "\n",
    "for path in IMAGE_NAMES:\n",
    "    input_image = cv2.imread(path)\n",
    "    preprocessed_image = pre(input_image)\n",
    "    #cv2.imshow(path+'_pre', preprocessed_image)\n",
    "    #cv2.waitKey()\n",
    "    #cv2.destroyAllWindows()\n",
    "    path_1 = 'result/preprocessed/' + 'pre_' + re.sub(r'\\s', '', path.split('/')[1])\n",
    "    img_path_list.append(path_1)\n",
    "    cv2.imwrite(path_1, preprocessed_image)"
   ]
  },
  {
   "cell_type": "markdown",
   "id": "07fb26e8",
   "metadata": {},
   "source": [
    "## Распознавание"
   ]
  },
  {
   "cell_type": "code",
   "execution_count": 15,
   "id": "cddfbb99",
   "metadata": {
    "scrolled": true
   },
   "outputs": [
    {
     "name": "stdout",
     "output_type": "stream",
     "text": [
      "result/preprocessed/pre_141899.jpg --- RECOGNITION ERROR TRY ANOTHER IMAGE\n",
      "result/preprocessed/pre_204119.jpg --- IMAGE RECOGNIZED\n",
      "result/preprocessed/pre_213950.jpg --- IMAGE RECOGNIZED\n",
      "result/preprocessed/pre_225629.jpg --- IMAGE RECOGNIZED\n",
      "result/preprocessed/pre_227414.jpg --- RECOGNITION ERROR TRY ANOTHER IMAGE\n",
      "result/preprocessed/pre_228963.jpg --- RECOGNITION ERROR TRY ANOTHER IMAGE\n",
      "result/preprocessed/pre_231820.jpg --- IMAGE RECOGNIZED\n",
      "result/preprocessed/pre_233749.jpg --- IMAGE RECOGNIZED\n",
      "result/preprocessed/pre_236000.jpg --- IMAGE RECOGNIZED\n",
      "result/preprocessed/pre_238716.jpg --- IMAGE RECOGNIZED\n",
      "result/preprocessed/pre_240493.jpg --- PREPROCESSING ERROR TRY ANOTHER IMAGE\n",
      "result/preprocessed/pre_243478.jpg --- RECOGNITION ERROR TRY ANOTHER IMAGE\n",
      "result/preprocessed/pre_245365.jpg --- IMAGE RECOGNIZED\n",
      "result/preprocessed/pre_254586.jpg --- IMAGE RECOGNIZED\n",
      "result/preprocessed/pre_256578.jpg --- RECOGNITION ERROR TRY ANOTHER IMAGE\n",
      "result/preprocessed/pre_256838.jpg --- IMAGE RECOGNIZED\n"
     ]
    }
   ],
   "source": [
    "os.makedirs('result/recognized/', exist_ok=True)\n",
    "\n",
    "for pth in img_path_list:\n",
    "    cell = search(pth)\n",
    "    if type(cell) == str:\n",
    "        print(pth, '---',cell)\n",
    "        continue\n",
    "    n = numbers(cell, pth)\n",
    "    w = words(cell, pth)\n",
    "    raw_out = (join_data(n, w))\n",
    "    cleaned_out = clean(raw_out)\n",
    "    out_data = table(cleaned_out)\n",
    "    if type(out_data) == str:\n",
    "        print(pth, '---', out_data)\n",
    "        continue\n",
    "    name = re.sub(r'\\D', '', pth) + '.csv'\n",
    "    out_data.to_csv('result/recognized/' + name)\n",
    "    print(pth, '---', 'IMAGE RECOGNIZED')"
   ]
  },
  {
   "cell_type": "markdown",
   "id": "d9c18fea",
   "metadata": {},
   "source": [
    "# Расчет accuracy\n",
    "\n",
    "Методика расчета - \"по определению\" - количество правильных ответов деленное на общее количество ответов. Общее количество ответов берется из количества ячеек в целевых столбцах"
   ]
  },
  {
   "cell_type": "code",
   "execution_count": 16,
   "id": "d764c8f2",
   "metadata": {},
   "outputs": [],
   "source": [
    "def acc_score(pred, true):\n",
    "    df_true = true.drop(columns=['Unnamed: 0', 'Город', 'Класс крови'], axis=1)\n",
    "    answers = df_true.shape[0] * df_true.shape[1]\n",
    "    correct_answers = 0\n",
    "    for i in range(len(df_true['Дата донации'])):\n",
    "        for j in range(len(pred['Дата донации'])):\n",
    "            if pred['Дата донации'][j] == df_true['Дата донации'][i]:\n",
    "                correct_answers += 1\n",
    "                if pred['Тип донации'][j] == df_true['Тип донации'][i]:\n",
    "                    correct_answers += 1\n",
    "                else:\n",
    "                    continue\n",
    "        else:\n",
    "            continue\n",
    "    return round(correct_answers / answers, 2)"
   ]
  },
  {
   "cell_type": "code",
   "execution_count": 17,
   "id": "211f8213",
   "metadata": {},
   "outputs": [
    {
     "name": "stdout",
     "output_type": "stream",
     "text": [
      "result/recognized/204119.csv ---ACCURACY VALUE--- 0.33\n",
      "result/recognized/213950.csv ---ACCURACY VALUE--- 0.34\n",
      "result/recognized/225629.csv ---ACCURACY VALUE--- 0.44\n",
      "result/recognized/231820.csv ---ACCURACY VALUE--- 0.62\n",
      "result/recognized/233749.csv ---ACCURACY VALUE--- 0.43\n",
      "result/recognized/236000.csv ---ACCURACY VALUE--- 1.0\n",
      "result/recognized/238716.csv ---ACCURACY VALUE--- 0.74\n",
      "result/recognized/245365.csv ---ACCURACY VALUE--- 0.85\n",
      "result/recognized/254586.csv ---ACCURACY VALUE--- 0.36\n",
      "result/recognized/256838.csv ---ACCURACY VALUE--- 0.05\n"
     ]
    }
   ],
   "source": [
    "for filename in os.listdir('result/recognized/'):\n",
    "    true_path = 'result/targets/' + filename\n",
    "    pred_path = 'result/recognized/' + filename\n",
    "    pred = pd.read_csv(pred_path)\n",
    "    true = pd.read_csv(true_path)\n",
    "    print(pred_path, '---ACCURACY VALUE---', acc_score(pred, true))"
   ]
  },
  {
   "cell_type": "code",
   "execution_count": null,
   "id": "1ede632f",
   "metadata": {},
   "outputs": [],
   "source": []
  }
 ],
 "metadata": {
  "kernelspec": {
   "display_name": "Python 3 (ipykernel)",
   "language": "python",
   "name": "python3"
  },
  "language_info": {
   "codemirror_mode": {
    "name": "ipython",
    "version": 3
   },
   "file_extension": ".py",
   "mimetype": "text/x-python",
   "name": "python",
   "nbconvert_exporter": "python",
   "pygments_lexer": "ipython3",
   "version": "3.10.9"
  },
  "toc": {
   "base_numbering": 1,
   "nav_menu": {},
   "number_sections": true,
   "sideBar": true,
   "skip_h1_title": false,
   "title_cell": "Table of Contents",
   "title_sidebar": "Contents",
   "toc_cell": false,
   "toc_position": {},
   "toc_section_display": true,
   "toc_window_display": false
  },
  "varInspector": {
   "cols": {
    "lenName": 16,
    "lenType": 16,
    "lenVar": 40
   },
   "kernels_config": {
    "python": {
     "delete_cmd_postfix": "",
     "delete_cmd_prefix": "del ",
     "library": "var_list.py",
     "varRefreshCmd": "print(var_dic_list())"
    },
    "r": {
     "delete_cmd_postfix": ") ",
     "delete_cmd_prefix": "rm(",
     "library": "var_list.r",
     "varRefreshCmd": "cat(var_dic_list()) "
    }
   },
   "types_to_exclude": [
    "module",
    "function",
    "builtin_function_or_method",
    "instance",
    "_Feature"
   ],
   "window_display": false
  }
 },
 "nbformat": 4,
 "nbformat_minor": 5
}
